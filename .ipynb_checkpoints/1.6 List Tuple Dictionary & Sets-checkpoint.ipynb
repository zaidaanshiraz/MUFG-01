{
 "cells": [
  {
   "cell_type": "markdown",
   "metadata": {},
   "source": [
    "### Collection Objects in Python\n",
    "-  Lists\n",
    "-  Tuples\n",
    "-  Dictionaries\n",
    "-  Sets"
   ]
  },
  {
   "cell_type": "markdown",
   "metadata": {},
   "source": [
    "#### Python Lists\n",
    "A List in Python is a collection object. Lists can hold a sequence of items or elements which can be of same or different data types including other collection objects. Lists elements can be accessed using the Index or relative position numbers starting from the start or end of the List. \n",
    "Lists are mutable, i.e. they can be changed anytime after they are created. \n"
   ]
  },
  {
   "cell_type": "code",
   "execution_count": 26,
   "metadata": {},
   "outputs": [
    {
     "name": "stdout",
     "output_type": "stream",
     "text": [
      "[1, 2, 3, 4]\n"
     ]
    }
   ],
   "source": [
    "# Create our first List\n",
    "lst1 = [1,2,3,4]\n",
    "print(lst1)"
   ]
  },
  {
   "cell_type": "code",
   "execution_count": 27,
   "metadata": {},
   "outputs": [
    {
     "name": "stdout",
     "output_type": "stream",
     "text": [
      "['Jimi', 5000, True, 3.8, 2019, 300]\n",
      "Demonstrate Mutability:  ['Jimi', 7000, True, 3.8, 2019, 300]\n"
     ]
    }
   ],
   "source": [
    "# Create a List with Multiple types of Data and Change them after creation\n",
    "lst1 = ['Jimi', 5000, True, 3.8, 2019, 300]\n",
    "print(lst1)\n",
    "lst1[1] = 7000    # Update the 2nd element of the List\n",
    "print(\"Demonstrate Mutability: \", lst1)"
   ]
  },
  {
   "cell_type": "code",
   "execution_count": 28,
   "metadata": {},
   "outputs": [
    {
     "name": "stdout",
     "output_type": "stream",
     "text": [
      "Print the 3rd Element of lst1:  True\n",
      "Print the 3rd Element of lst1:  True\n"
     ]
    }
   ],
   "source": [
    "# Access Lists with relative positioning\n",
    "lst1 = ['Jimi', 5000, True, 3.8, 2019, 300]\n",
    "print(\"Print the 3rd Element of lst1: \", lst1[2])   # Relative indexing from the start\n",
    "print(\"Print the 3rd Element of lst1: \", lst1[-4])   # Relative indexing from the end"
   ]
  },
  {
   "cell_type": "markdown",
   "metadata": {},
   "source": [
    "#### Slicing Lists"
   ]
  },
  {
   "cell_type": "code",
   "execution_count": 29,
   "metadata": {},
   "outputs": [
    {
     "name": "stdout",
     "output_type": "stream",
     "text": [
      "['Gilchrist', 'Waugh', 'Dravid', 'Pollock']\n",
      "['Gayle', 'Gilchrist', 'Waugh', 'Dravid', 'Pollock']\n",
      "['Gilchrist', 'Waugh', 'Dravid', 'Pollock', 'Tendulkar', 'Gavaskar', 'Dhoni']\n"
     ]
    }
   ],
   "source": [
    "# Access cross section of Lists \n",
    "lst1 = ['Gayle', 'Gilchrist', 'Waugh', 'Dravid', 'Pollock', 'Tendulkar', 'Gavaskar', 'Dhoni']\n",
    "print(lst1[1:5])    # Print elements 2 to 5\n",
    "print(lst1[:5])    # Print elements start to 5 - default start 0\n",
    "print(lst1[1:])    # Print all elements starting from 2nd - default end is all"
   ]
  },
  {
   "cell_type": "markdown",
   "metadata": {},
   "source": [
    "#### Striding"
   ]
  },
  {
   "cell_type": "code",
   "execution_count": 30,
   "metadata": {},
   "outputs": [
    {
     "name": "stdout",
     "output_type": "stream",
     "text": [
      "[2, 4, 6, 8, 10, 12]\n"
     ]
    }
   ],
   "source": [
    "# Access cross section of Lists with stride\n",
    "lst1 = [1,2,3,4,5,6,7,8,9,10,11,12,13,14]\n",
    "print(lst1[1:12:2])    # Print elements 2 to 12 jumping 2 elements at a time"
   ]
  },
  {
   "cell_type": "markdown",
   "metadata": {},
   "source": [
    "#### Adding elements in a List"
   ]
  },
  {
   "cell_type": "code",
   "execution_count": 31,
   "metadata": {},
   "outputs": [
    {
     "name": "stdout",
     "output_type": "stream",
     "text": [
      "[1, 2, 3, 4, 5, 6, 7, 8, 9, 10, 0, 1, 2, 3, 4]\n"
     ]
    }
   ],
   "source": [
    "# Adding single elements in Lists\n",
    "lst1 = [1,2,3,4,5,6,7,8,9,10]\n",
    "for x in range(5):\n",
    "    lst1.append(x)   # Append one element each time to the List\n",
    "print(lst1)          # Print the final List"
   ]
  },
  {
   "cell_type": "code",
   "execution_count": 32,
   "metadata": {},
   "outputs": [
    {
     "name": "stdout",
     "output_type": "stream",
     "text": [
      "[1, 2, 3, 4, 5, 6, 7, 8, 9, 10, 11, 12, 13, 14]\n"
     ]
    }
   ],
   "source": [
    "# Adding multiple elements in Lists\n",
    "lst1 = [1,2,3,4,5,6,7,8,9,10]\n",
    "lst1.extend([11,12,13,14])     # Extend the List by several elements\n",
    "print(lst1)                    # Print the final List"
   ]
  },
  {
   "cell_type": "code",
   "execution_count": 33,
   "metadata": {},
   "outputs": [
    {
     "name": "stdout",
     "output_type": "stream",
     "text": [
      "[1, 2, 3, 4, 5, 6, 7, 8, 9, 10, 11, 12, 13, 14]\n"
     ]
    }
   ],
   "source": [
    "# Adding multiple elements in Lists -- another way\n",
    "lst1 = [1,2,3,4,5,6,7,8,9,10]\n",
    "lst2 = [11,12,13,14]\n",
    "lst1 += lst2    # Add lst2 to lst1\n",
    "print(lst1)     # Print the final List"
   ]
  },
  {
   "cell_type": "markdown",
   "metadata": {},
   "source": [
    "#### Removing an Element from a List "
   ]
  },
  {
   "cell_type": "code",
   "execution_count": 34,
   "metadata": {},
   "outputs": [
    {
     "name": "stdout",
     "output_type": "stream",
     "text": [
      "After pop:  [1, 2, 3, 4, 5, 6, 7, 8, 9]\n",
      "After pop of 4th element:  [1, 2, 3, 5, 6, 7, 8, 9]\n"
     ]
    }
   ],
   "source": [
    "# Removing an element using the pop method\n",
    "lst1 = [1,2,3,4,5,6,7,8,9,10]\n",
    "lst1.pop()    # Removes the last element in-place\n",
    "print(\"After pop: \", lst1)\n",
    "lst1.pop(3)    # Removes the specified element in-place\n",
    "print(\"After pop of 4th element: \", lst1)"
   ]
  },
  {
   "cell_type": "code",
   "execution_count": 35,
   "metadata": {},
   "outputs": [
    {
     "name": "stdout",
     "output_type": "stream",
     "text": [
      "['Gayle', 'Gilchrist', 'Dravid', 'Pollock', 'Tendulkar', 'Gavaskar', 'Dhoni']\n"
     ]
    }
   ],
   "source": [
    "# Removing an element using the remove method\n",
    "lst1 = ['Gayle', 'Gilchrist', 'Waugh', 'Dravid', 'Pollock', 'Tendulkar', 'Gavaskar', 'Dhoni']\n",
    "lst1.remove('Waugh')    # Removes the specified element in-place\n",
    "print(lst1)"
   ]
  },
  {
   "cell_type": "code",
   "execution_count": 36,
   "metadata": {},
   "outputs": [
    {
     "name": "stdout",
     "output_type": "stream",
     "text": [
      "['Gayle', 'Gilchrist', 'Pollock', 'Tendulkar', 'Gavaskar', 'Dhoni']\n"
     ]
    }
   ],
   "source": [
    "# Removing an element using the del keyword\n",
    "lst1 = ['Gayle', 'Gilchrist', 'Waugh', 'Dravid', 'Pollock', 'Tendulkar', 'Gavaskar', 'Dhoni']\n",
    "del lst1[2:4]    # Removes the elements at the specified index range\n",
    "print(lst1)"
   ]
  },
  {
   "cell_type": "markdown",
   "metadata": {},
   "source": [
    "### Refer to Differences between Tuple and Lists"
   ]
  },
  {
   "cell_type": "markdown",
   "metadata": {},
   "source": [
    "## TUPLES\n",
    "Tuple is an ordered sequence of items same as a list. The only difference is that tuples are immutable. Tuples once created cannot be modified.\n",
    "\n",
    "Tuples are used to write-protect data and are usually faster than lists as they cannot change dynamically."
   ]
  },
  {
   "cell_type": "markdown",
   "metadata": {},
   "source": [
    "#### Creating Tuples"
   ]
  },
  {
   "cell_type": "code",
   "execution_count": 37,
   "metadata": {},
   "outputs": [
    {
     "name": "stdout",
     "output_type": "stream",
     "text": [
      "Contents of an empty Tuple:  ()\n",
      "Contents of a simple Tuple:  (1, 2, 3, 4, 5)\n",
      "Contents of a Nested Tuple:  (1, 2, (5, 6, 7), 4, 5)\n",
      "Contents of a Tuple having a Nested List:  (1, 2, (5, 6, 7), 4, [9, 8, 7])\n",
      "Contents of a Tuple having mixed Data Types:  ('Rohit', 'Karnataka', True, 2000)\n"
     ]
    }
   ],
   "source": [
    "# Creating Tuples in various ways\n",
    "tup1 = ()   # Create an empty Tuple\n",
    "print(\"Contents of an empty Tuple: \", tup1)\n",
    "tup1 = (1,2,3,4,5)\n",
    "print(\"Contents of a simple Tuple: \", tup1)\n",
    "tup1 = (1,2,(5,6,7),4,5)\n",
    "print(\"Contents of a Nested Tuple: \", tup1)\n",
    "tup1 = (1,2,(5,6,7),4,[9,8,7])\n",
    "print(\"Contents of a Tuple having a Nested List: \", tup1)\n",
    "tup1 = ('Rohit', 'Karnataka', True, 2000)\n",
    "print(\"Contents of a Tuple having mixed Data Types: \", tup1)"
   ]
  },
  {
   "cell_type": "code",
   "execution_count": 38,
   "metadata": {},
   "outputs": [
    {
     "name": "stdout",
     "output_type": "stream",
     "text": [
      "Print Tuple Created from a List (1, 2, 3, 4, 5)\n",
      "Print Tuple Created from a Dictionary ('Name', 'Salary')\n",
      "Print Tuple Created from a String ('C', 'h', 'r', 'i', 's', 't', 'i', 'a', 'n', 'o', ' ', 'R', 'o', 'n', 'a', 'l', 'd', 'o')\n"
     ]
    }
   ],
   "source": [
    "# Creating Tuple using the tuple function\n",
    "lst1 = [1,2,3,4,5]       # Create a List\n",
    "tup1 = tuple(lst1)\n",
    "print(\"Print Tuple Created from a List\", tup1)\n",
    "dict1 = {'Name': 'Robert', 'Salary': 2000}     # Dictionary are key:value pairs separated by comma\n",
    "tup2 = tuple(dict1)     # Note that the Tuple is created with the values of the Dictionary Indexes \n",
    "print(\"Print Tuple Created from a Dictionary\", tup2)\n",
    "str1 = \"Christiano Ronaldo\"\n",
    "tup3 = tuple(str1)   # Tuple created from a String\n",
    "print(\"Print Tuple Created from a String\", tup3)"
   ]
  },
  {
   "cell_type": "markdown",
   "metadata": {},
   "source": [
    "#### Accessing Tuple Elements\n",
    "\n",
    "Like Lists, Tuple elements can be accessed using a relative index value that can be counted from the start (using a positive index number) or at the end (using a negative index number). \n"
   ]
  },
  {
   "cell_type": "code",
   "execution_count": 39,
   "metadata": {},
   "outputs": [
    {
     "name": "stdout",
     "output_type": "stream",
     "text": [
      "Print the 3rd Element of Tup1:  True\n",
      "Print the 3rd Element of Tup1:  True\n"
     ]
    }
   ],
   "source": [
    "# Access Tuples with relative positioning\n",
    "tup1 = ('Jimi', 5000, True, 3.8, 2019, 300)\n",
    "print(\"Print the 3rd Element of Tup1: \", tup1[2])   # Relative indexing from the start\n",
    "print(\"Print the 3rd Element of Tup1: \", tup1[-4])   # Relative indexing from the end"
   ]
  },
  {
   "cell_type": "markdown",
   "metadata": {},
   "source": [
    "#### Slicing Tuples\n",
    "\n",
    "We can access a cross section of a Tuple by providing a start and an end position. \n",
    "Syntax: Tuplename[start:end]"
   ]
  },
  {
   "cell_type": "code",
   "execution_count": 40,
   "metadata": {},
   "outputs": [
    {
     "name": "stdout",
     "output_type": "stream",
     "text": [
      "('Gilchrist', 'Waugh', 'Dravid', 'Pollock')\n",
      "('Gayle', 'Gilchrist', 'Waugh', 'Dravid', 'Pollock')\n",
      "('Gilchrist', 'Waugh', 'Dravid', 'Pollock', 'Tendulkar', 'Gavaskar', 'Dhoni')\n"
     ]
    }
   ],
   "source": [
    "# Access cross section of Tuples \n",
    "tup1 = ('Gayle', 'Gilchrist', 'Waugh', 'Dravid', 'Pollock', 'Tendulkar', 'Gavaskar', 'Dhoni')\n",
    "print(tup1[1:5])    # Print elements 2 to 5\n",
    "print(tup1[:5])    # Print elements start to 5 - default start 0\n",
    "print(tup1[1:])    # Print all elements starting from 2nd - default end is all"
   ]
  },
  {
   "cell_type": "code",
   "execution_count": 41,
   "metadata": {},
   "outputs": [
    {
     "name": "stdout",
     "output_type": "stream",
     "text": [
      "(2, 4, 6, 8, 10, 12)\n"
     ]
    }
   ],
   "source": [
    "# Access cross section of Tuples with stride\n",
    "tup1 = (1,2,3,4,5,6,7,8,9,10,11,12,13,14)\n",
    "print(tup1[1:12:2])    # Print elements 2 to 12 jumping 2 elements at a time"
   ]
  },
  {
   "cell_type": "code",
   "execution_count": 42,
   "metadata": {},
   "outputs": [
    {
     "name": "stdout",
     "output_type": "stream",
     "text": [
      "3\n"
     ]
    }
   ],
   "source": [
    "# Index - Returns the zero-based (positive) index of the first element matching the value of the parameter.\n",
    "\n",
    "tup1 = (1, 3, 7, 8, 7, 5)\n",
    "print(tup1.index(8))"
   ]
  },
  {
   "cell_type": "code",
   "execution_count": 43,
   "metadata": {},
   "outputs": [
    {
     "name": "stdout",
     "output_type": "stream",
     "text": [
      "2\n"
     ]
    }
   ],
   "source": [
    "# Count - Returns the number of times the a value passed as a parameter appears on the Tuple. \n",
    "\n",
    "tup1 = (1,2,3,4,5,6,7,8,5,10,11,12,13,14)\n",
    "print(tup1.count(5))"
   ]
  },
  {
   "cell_type": "code",
   "execution_count": 44,
   "metadata": {},
   "outputs": [
    {
     "name": "stdout",
     "output_type": "stream",
     "text": [
      "True\n",
      "False\n"
     ]
    }
   ],
   "source": [
    "# Any - The any method returns True if any of the elements is True. \n",
    "\n",
    "tup1 = (1,2,3,4,5,6,7,8)\n",
    "tup2 = (0, 0)\n",
    "print(any(tup1))\n",
    "print(any(tup2))"
   ]
  },
  {
   "cell_type": "code",
   "execution_count": 45,
   "metadata": {},
   "outputs": [
    {
     "name": "stdout",
     "output_type": "stream",
     "text": [
      "False\n",
      "True\n"
     ]
    }
   ],
   "source": [
    "# All - Returns True if all the elements in the Tuple are True. \n",
    "\n",
    "tup1 = (1,2,3,4,6,0,7,8)\n",
    "tup2 = (1,1,1,1)\n",
    "print(all(tup1))\n",
    "print(all(tup2))"
   ]
  },
  {
   "cell_type": "code",
   "execution_count": 46,
   "metadata": {},
   "outputs": [
    {
     "name": "stdout",
     "output_type": "stream",
     "text": [
      "[(0, 'Gayle'), (1, 'Gilchrist'), (2, 'Waugh'), (3, 'Dravid'), (4, 'Pollock'), (5, 'Tendulkar'), (6, 'Gavaskar'), (7, 'Dhoni')]\n"
     ]
    }
   ],
   "source": [
    "# Enumerate - The Enumerate method takes in an iterable (Tuple in this case), adds a sequence number to it and returns an Enumerate object. \n",
    "\n",
    "tup1 = ('Gayle', 'Gilchrist', 'Waugh', 'Dravid', 'Pollock', 'Tendulkar', 'Gavaskar', 'Dhoni')\n",
    "print(list(enumerate(tup1)))"
   ]
  },
  {
   "cell_type": "code",
   "execution_count": 47,
   "metadata": {},
   "outputs": [
    {
     "name": "stdout",
     "output_type": "stream",
     "text": [
      "[(1, 'Gayle'), (2, 'Gilchrist'), (3, 'Waugh'), (4, 'Dravid'), (5, 'Pollock')]\n"
     ]
    }
   ],
   "source": [
    "# Zip is a built in Python function that takes in two sequences and returns a combined pair set. \n",
    "\n",
    "tup1 = (1,2,3,4,5)\n",
    "tup2 = ('Gayle', 'Gilchrist', 'Waugh', 'Dravid', 'Pollock')\n",
    "print(list(zip(tup1, tup2)))"
   ]
  },
  {
   "cell_type": "code",
   "execution_count": 48,
   "metadata": {},
   "outputs": [
    {
     "name": "stdout",
     "output_type": "stream",
     "text": [
      "Sorted:  ['Dravid', 'Gayle', 'Gilchrist', 'Pollock', 'Waugh']\n",
      "Reverse Sorted:  ['Waugh', 'Pollock', 'Gilchrist', 'Gayle', 'Dravid']\n"
     ]
    }
   ],
   "source": [
    "# Sorted - Returns a sorted List of the passed Tuple. \n",
    "res = sorted(('Gayle', 'Gilchrist', 'Waugh', 'Dravid', 'Pollock'))\n",
    "print(\"Sorted: \", res)\n",
    "rev = sorted(('Gayle', 'Gilchrist', 'Waugh', 'Dravid', 'Pollock'), reverse=True)\n",
    "print(\"Reverse Sorted: \", rev)"
   ]
  },
  {
   "cell_type": "code",
   "execution_count": 49,
   "metadata": {},
   "outputs": [
    {
     "name": "stdout",
     "output_type": "stream",
     "text": [
      "Reversed:  ['Pollock', 'Dravid', 'Waugh', 'Gilchrist', 'Gayle']\n"
     ]
    }
   ],
   "source": [
    "# Returns a reversed iterator of the sequence that is passed as parameter. \n",
    "\n",
    "tup1 = ('Gayle', 'Gilchrist', 'Waugh', 'Dravid', 'Pollock')\n",
    "res = list(reversed(tup1))\n",
    "print(\"Reversed: \", res)"
   ]
  },
  {
   "cell_type": "code",
   "execution_count": 50,
   "metadata": {},
   "outputs": [
    {
     "name": "stdout",
     "output_type": "stream",
     "text": [
      "14\n"
     ]
    }
   ],
   "source": [
    "# Max - Returns the maximum value from the Tuple.\n",
    "\n",
    "tup1 = (1,2,3,4,5,6,7,8,9,10,11,12,13,14)\n",
    "print(max(tup1))"
   ]
  },
  {
   "cell_type": "code",
   "execution_count": 51,
   "metadata": {},
   "outputs": [
    {
     "name": "stdout",
     "output_type": "stream",
     "text": [
      "1\n"
     ]
    }
   ],
   "source": [
    "# Returns the maximum value from the Tuple.\n",
    "\n",
    "tup1 = (1,2,3,4,5,6,7,8,9,10,11,12,13,14)\n",
    "print(min(tup1))"
   ]
  },
  {
   "cell_type": "code",
   "execution_count": 52,
   "metadata": {},
   "outputs": [
    {
     "name": "stdout",
     "output_type": "stream",
     "text": [
      "105\n"
     ]
    }
   ],
   "source": [
    "# Returns the maximum value from the Tuple.\n",
    "\n",
    "tup1 = (1,2,3,4,5,6,7,8,9,10,11,12,13,14)\n",
    "print(sum(tup1))"
   ]
  },
  {
   "cell_type": "markdown",
   "metadata": {},
   "source": [
    "#### Copying a Tuple - As Tuples are mutable, there cannot be much of a rationale to create a copy of a Tuple. The assignment operator ‘=’ and ‘deepcopy’ works but they simply create a new reference to the same memory location."
   ]
  },
  {
   "cell_type": "code",
   "execution_count": 1,
   "metadata": {},
   "outputs": [
    {
     "ename": "NameError",
     "evalue": "name 'copy' is not defined",
     "output_type": "error",
     "traceback": [
      "\u001b[1;31m---------------------------------------------------------------------------\u001b[0m",
      "\u001b[1;31mNameError\u001b[0m                                 Traceback (most recent call last)",
      "Cell \u001b[1;32mIn[1], line 4\u001b[0m\n\u001b[0;32m      2\u001b[0m \u001b[38;5;28;01mfrom\u001b[39;00m \u001b[38;5;21;01mcopy\u001b[39;00m \u001b[38;5;28;01mimport\u001b[39;00m deepcopy\n\u001b[0;32m      3\u001b[0m tup1 \u001b[38;5;241m=\u001b[39m [\u001b[38;5;241m1\u001b[39m, \u001b[38;5;241m2\u001b[39m, \u001b[38;5;241m3\u001b[39m, \u001b[38;5;241m4\u001b[39m, \u001b[38;5;241m5\u001b[39m]\n\u001b[1;32m----> 4\u001b[0m tup2 \u001b[38;5;241m=\u001b[39m \u001b[43mcopy\u001b[49m\u001b[38;5;241m.\u001b[39mdeepcopy(tup1)\n\u001b[0;32m      5\u001b[0m \u001b[38;5;28mprint\u001b[39m(\u001b[38;5;124m\"\u001b[39m\u001b[38;5;124mCopy: \u001b[39m\u001b[38;5;124m\"\u001b[39m, tup2)\n\u001b[0;32m      6\u001b[0m \u001b[38;5;28mprint\u001b[39m(\u001b[38;5;28mid\u001b[39m(tup1))\n",
      "\u001b[1;31mNameError\u001b[0m: name 'copy' is not defined"
     ]
    }
   ],
   "source": [
    "# Copy Using Deepcopy\n",
    "from copy import deepcopy\n",
    "import copy\n",
    "tup1 = [1, 2, 3, 4, 5]\n",
    "tup2 = copy.deepcopy(tup1)\n",
    "print(\"Copy: \", tup2)\n",
    "print(id(tup1))\n",
    "print(id(tup2))"
   ]
  },
  {
   "cell_type": "code",
   "execution_count": 29,
   "metadata": {},
   "outputs": [
    {
     "name": "stdout",
     "output_type": "stream",
     "text": [
      "Copy:  (1, 2, 3, 4, 5)\n",
      "2295109138800\n",
      "2295109138800\n"
     ]
    }
   ],
   "source": [
    "# Copy using assignment\n",
    "tup3 = (1, 2, 3, 4, 5)\n",
    "tup4 = tup3\n",
    "print(\"Copy: \", tup4)\n",
    "print(id(tup3))\n",
    "print(id(tup4))"
   ]
  },
  {
   "cell_type": "markdown",
   "metadata": {},
   "source": [
    "### Dictionaries"
   ]
  },
  {
   "cell_type": "markdown",
   "metadata": {},
   "source": [
    "A Dictionary in Python is a sequence or collection of Key:Value pairs. A dictionary is expressed within curling braces {}. The key is called the Index and the values can be accessed using the Index value from any specific pair. \n",
    "Dictionaries “values” are mutable, i.e. values against a key can be updated after the dictionary is created and can be of any data type. However, the “Key” cannot be updated (immutable). The Key cannot be duplicated also. i.e. there cannot be two keys in the same dictionary with the same name. \n",
    "Dictionary can hold “values” as other collections such as a Numpy Array, List or Set.  \n",
    "It is generally used when we have a huge amount of data. Dictionaries are optimized for retrieving data. We must know the key to retrieve the value.\n"
   ]
  },
  {
   "cell_type": "code",
   "execution_count": 30,
   "metadata": {},
   "outputs": [
    {
     "name": "stdout",
     "output_type": "stream",
     "text": [
      "{'Tran_id': 'T0089', 'Cust_Id': 'C000876', 'ATM_Location': 'HSR Layout', 'Acc_Type': 'Savings', 'Amount_Drawn': 8000}\n"
     ]
    }
   ],
   "source": [
    "# Create our First Dictionary\n",
    "dict_tran = {'Tran_id' : 'T0089', 'Cust_Id': 'C000876', \n",
    "             'ATM_Location': 'HSR Layout', 'Acc_Type': 'Savings' , 'Amount_Drawn': 8000}\n",
    "print(dict_tran)"
   ]
  },
  {
   "cell_type": "code",
   "execution_count": 31,
   "metadata": {},
   "outputs": [
    {
     "name": "stdout",
     "output_type": "stream",
     "text": [
      "{'Cust_id': 'C0789', 'Cust_Trans': ['T001', 'T003', 'T006']}\n"
     ]
    }
   ],
   "source": [
    "# Create a Dictionary with a List as one of the values\n",
    "dict_tran = {'Cust_id' : 'C0789', 'Cust_Trans': ['T001', 'T003', 'T006']}\n",
    "print(dict_tran)"
   ]
  },
  {
   "cell_type": "code",
   "execution_count": 32,
   "metadata": {},
   "outputs": [
    {
     "name": "stdout",
     "output_type": "stream",
     "text": [
      "{'Cust_id': 'C0789', 'Cust_Trans': 'T001'}\n"
     ]
    }
   ],
   "source": [
    "# Create a Dictionary from a set of Tuples in a List using the Dict Method\n",
    "dict_tran = dict([('Cust_id', 'C0789'), ('Cust_Trans', 'T001')])\n",
    "print(dict_tran)"
   ]
  },
  {
   "cell_type": "code",
   "execution_count": 33,
   "metadata": {},
   "outputs": [
    {
     "name": "stdout",
     "output_type": "stream",
     "text": [
      "{'Cust_id': 'C0789', 'Cust_Trans': 'T001'}\n"
     ]
    }
   ],
   "source": [
    "# Populate from an empty dictionary\n",
    "dict_tran = {}\n",
    "dict_tran['Cust_id'] = 'C0789'\n",
    "dict_tran['Cust_Trans'] = 'T001'\n",
    "print(dict_tran)"
   ]
  },
  {
   "cell_type": "markdown",
   "metadata": {},
   "source": [
    "#### Accessing Dictionaries"
   ]
  },
  {
   "cell_type": "code",
   "execution_count": 34,
   "metadata": {},
   "outputs": [
    {
     "name": "stdout",
     "output_type": "stream",
     "text": [
      "Printing Value of Tran_id:  T0089\n",
      "Printing Value of Cust_Id:  C000876\n"
     ]
    }
   ],
   "source": [
    "# Access Dictionary Elements by using 'Keys' to access the 'Values'\n",
    "dict_tran = {'Tran_id' : 'T0089', 'Cust_Id': 'C000876', 'Acc_Type': 'Savings' , 'Amount_Drawn': 8000}\n",
    "print(\"Printing Value of Tran_id: \", dict_tran['Tran_id'])\n",
    "print(\"Printing Value of Cust_Id: \", dict_tran['Cust_Id'])"
   ]
  },
  {
   "cell_type": "code",
   "execution_count": 35,
   "metadata": {},
   "outputs": [
    {
     "name": "stdout",
     "output_type": "stream",
     "text": [
      "Printing Value of Tran_id:  T0089\n",
      "Printing Value of Tran_info:  {'Acc_Type': 'Savings', 'Amount_Drawn': 8000}\n",
      "Printing Value of Amount_Drawn:  8000\n"
     ]
    }
   ],
   "source": [
    "# Access Dictionary Elements by using 'Keys' to access the 'Values' -- Nested Dictionaries\n",
    "dict_tran = {'Tran_id' : 'T0089', 'Cust_Id': 'C000876', \n",
    "             'Tran_info': {'Acc_Type': 'Savings' , 'Amount_Drawn': 8000}}\n",
    "print(\"Printing Value of Tran_id: \", dict_tran['Tran_id'])\n",
    "print(\"Printing Value of Tran_info: \", dict_tran['Tran_info'])\n",
    "print(\"Printing Value of Amount_Drawn: \", dict_tran['Tran_info']['Amount_Drawn'])"
   ]
  },
  {
   "cell_type": "markdown",
   "metadata": {},
   "source": [
    "#### Adding Elements in a Dictionary\n",
    "Elements or new key:value pairs can be added into a Dictionary by assigning the value against the new key. The following example demonstrates.\n"
   ]
  },
  {
   "cell_type": "code",
   "execution_count": 36,
   "metadata": {},
   "outputs": [
    {
     "name": "stdout",
     "output_type": "stream",
     "text": [
      "Printing the updated dictionary:  {'Tran_id': 'T0089', 'Cust_Id': 'C000876', 'Acc_Type': 'Savings', 'Amount_Drawn': 8000, 'ATM_Location': 'Bengaluru'}\n"
     ]
    }
   ],
   "source": [
    "# Adding an element (key:value) by value assignment against a new key\n",
    "dict_tran = {'Tran_id' : 'T0089', 'Cust_Id': 'C000876', 'Acc_Type': 'Savings' , 'Amount_Drawn': 8000}\n",
    "dict_tran['ATM_Location'] = 'Bengaluru'\n",
    "print(\"Printing the updated dictionary: \", dict_tran)"
   ]
  },
  {
   "cell_type": "code",
   "execution_count": 37,
   "metadata": {},
   "outputs": [
    {
     "name": "stdout",
     "output_type": "stream",
     "text": [
      "Printing the updated dictionary:  {'Tran_id': 'T0089', 'Cust_Id': 'C000876', 'Acc_Type': 'Savings', 'Amount_Drawn': 8000, 'ATM_Location': 'Bengaluru', 'Amount_Given': 6000}\n"
     ]
    }
   ],
   "source": [
    "# Adding an element (key:value) by using the update method of dictionary\n",
    "dict_tran = {'Tran_id' : 'T0089', 'Cust_Id': 'C000876', 'Acc_Type': 'Savings' , 'Amount_Drawn': 8000}\n",
    "dict_tran.update({'ATM_Location': 'Bengaluru', 'Amount_Given': 6000})\n",
    "print(\"Printing the updated dictionary: \", dict_tran)"
   ]
  },
  {
   "cell_type": "markdown",
   "metadata": {},
   "source": [
    "#### Removing an Element from a Dictionary\n",
    "Removing an element from a dictionary requires identifying the element through the ‘key’. The ‘del’ statement removed the element in-place.\n"
   ]
  },
  {
   "cell_type": "code",
   "execution_count": 38,
   "metadata": {},
   "outputs": [
    {
     "name": "stdout",
     "output_type": "stream",
     "text": [
      "Printing the updated dictionary:  {'Tran_id': 'T0089', 'Cust_Id': 'C000876', 'Amount_Drawn': 8000}\n"
     ]
    }
   ],
   "source": [
    "# Deleting an Element from a Dictionary\n",
    "dict_tran = {'Tran_id' : 'T0089', 'Cust_Id': 'C000876', 'Acc_Type': 'Savings' , 'Amount_Drawn': 8000}\n",
    "del dict_tran['Acc_Type']\n",
    "print(\"Printing the updated dictionary: \", dict_tran)"
   ]
  },
  {
   "cell_type": "code",
   "execution_count": 39,
   "metadata": {},
   "outputs": [
    {
     "name": "stdout",
     "output_type": "stream",
     "text": [
      "Printing the updated dictionary:  {'Tran_id': 'T0089', 'Cust_Id': 'C000876', 'Amount_Drawn': 8000}\n",
      "What did I pop?  Savings\n"
     ]
    }
   ],
   "source": [
    "# Deleting an Element from a Dictionary using 'pop'\n",
    "dict_tran = {'Tran_id' : 'T0089', 'Cust_Id': 'C000876', 'Acc_Type': 'Savings' , 'Amount_Drawn': 8000}\n",
    "popped = dict_tran.pop('Acc_Type')\n",
    "print(\"Printing the updated dictionary: \", dict_tran)\n",
    "print(\"What did I pop? \", popped)"
   ]
  },
  {
   "cell_type": "markdown",
   "metadata": {},
   "source": [
    "### Trapping KeyError in a Dictionary\n",
    "Most operations on a Python Dictionary requires a ‘key’ to access the value, hence there is probability of specifying a wrong key. A dictionary operation throws a ‘KeyError’ when a wrong key is specified and it is advisable to trap it, especially if the key is provided dynamically in the program. \n"
   ]
  },
  {
   "cell_type": "code",
   "execution_count": 65,
   "metadata": {},
   "outputs": [
    {
     "name": "stdout",
     "output_type": "stream",
     "text": [
      "Key Specified is not found in dict_tran\n"
     ]
    }
   ],
   "source": [
    "# Deleting an Element from a Dictionary using 'pop' while trapping 'KeyError'\n",
    "dict_tran = {'Tran_id' : 'T0089', 'Cust_Id': 'C000876', 'Acc_Type': 'Savings' , 'Amount_Drawn': 8000}\n",
    "try:\n",
    "    popped = dict_tran.pop('Acc_Type1')\n",
    "    print(\"Printing the updated dictionary: \", dict_tran)\n",
    "    print(\"What did I pop? \", popped)\n",
    "except KeyError:\n",
    "    print(\"Key Specified is not found in dict_tran\")      "
   ]
  },
  {
   "cell_type": "code",
   "execution_count": 66,
   "metadata": {},
   "outputs": [
    {
     "name": "stdout",
     "output_type": "stream",
     "text": [
      "{}\n"
     ]
    }
   ],
   "source": [
    "# Clear - Deletes all elements in the Dictionary\n",
    "# 'Clear' the Dictionary\n",
    "dict_tran = {'Tran_id' : 'T0089', 'Cust_Id': 'C000876', 'Acc_Type': 'Savings' , 'Amount_Drawn': 8000}\n",
    "dict_tran.clear()\n",
    "print(dict_tran)"
   ]
  },
  {
   "cell_type": "code",
   "execution_count": 67,
   "metadata": {},
   "outputs": [
    {
     "name": "stdout",
     "output_type": "stream",
     "text": [
      "{'Tran_id': 'T0089', 'Cust_Id': 'C000876', 'Acc_Type': 'Savings', 'Amount_Drawn': 8000}\n"
     ]
    }
   ],
   "source": [
    "# Copy - Returns a copy of the Dictionary\n",
    "# 'Copy' the Dictionary\n",
    "dict_tran = {'Tran_id' : 'T0089', 'Cust_Id': 'C000876', 'Acc_Type': 'Savings' , 'Amount_Drawn': 8000}\n",
    "dict_copy = dict_tran.copy()\n",
    "print(dict_copy)"
   ]
  },
  {
   "cell_type": "code",
   "execution_count": 40,
   "metadata": {},
   "outputs": [
    {
     "name": "stdout",
     "output_type": "stream",
     "text": [
      "{'Acc_Type': None, 'Cust_Id': None}\n"
     ]
    }
   ],
   "source": [
    "# Creates a dictionary from a specified sequence of keys.\n",
    "# Create a new Dictionary with a specified sequence of key-values\n",
    "dict_tran = {'Tran_id' : 'T0089', 'Cust_Id': 'C000876', 'Acc_Type': 'Savings' , 'Amount_Drawn': 8000}\n",
    "keys = {'Cust_Id', 'Acc_Type'}\n",
    "dict_copy = dict_tran.fromkeys(keys)\n",
    "print(dict_copy)"
   ]
  },
  {
   "cell_type": "code",
   "execution_count": 69,
   "metadata": {},
   "outputs": [
    {
     "name": "stdout",
     "output_type": "stream",
     "text": [
      "C000876\n"
     ]
    }
   ],
   "source": [
    "# Get - Returns the value of a key specified.\n",
    "# 'get' the value of a specified key\n",
    "dict_tran = {'Tran_id' : 'T0089', 'Cust_Id': 'C000876', 'Acc_Type': 'Savings' , 'Amount_Drawn': 8000}\n",
    "dict_get = dict_tran.get('Cust_Id')\n",
    "print(dict_get)"
   ]
  },
  {
   "cell_type": "code",
   "execution_count": 70,
   "metadata": {},
   "outputs": [
    {
     "name": "stdout",
     "output_type": "stream",
     "text": [
      "dict_items([('Tran_id', 'T0089'), ('Cust_Id', 'C000876'), ('Acc_Type', 'Savings'), ('Amount_Drawn', 8000)])\n"
     ]
    }
   ],
   "source": [
    "# Returns all the key:value pairs in the dictionary in the form of a List of Tuples.\n",
    "# Return the key:value pairs from the dictionary as a list of key:value Tuples \n",
    "dict_tran = {'Tran_id' : 'T0089', 'Cust_Id': 'C000876', 'Acc_Type': 'Savings' , 'Amount_Drawn': 8000}\n",
    "dict_items = dict_tran.items()\n",
    "print(dict_items)"
   ]
  },
  {
   "cell_type": "code",
   "execution_count": 71,
   "metadata": {},
   "outputs": [
    {
     "name": "stdout",
     "output_type": "stream",
     "text": [
      "dict_keys(['Tran_id', 'Cust_Id', 'Acc_Type', 'Amount_Drawn'])\n"
     ]
    }
   ],
   "source": [
    "# Returns a list containing all the keys of the Dictionary.\n",
    "# Return all the Keys of the dictionary\n",
    "dict_tran = {'Tran_id' : 'T0089', 'Cust_Id': 'C000876', 'Acc_Type': 'Savings' , 'Amount_Drawn': 8000}\n",
    "dict_keys = dict_tran.keys()\n",
    "print(dict_keys)"
   ]
  },
  {
   "cell_type": "code",
   "execution_count": 72,
   "metadata": {},
   "outputs": [
    {
     "name": "stdout",
     "output_type": "stream",
     "text": [
      "dict_values(['T0089', 'C000876', 'Savings', 8000])\n"
     ]
    }
   ],
   "source": [
    "# Values - Returns all the values \n",
    "# Return all the Values of the dictionary\n",
    "dict_tran = {'Tran_id' : 'T0089', 'Cust_Id': 'C000876', 'Acc_Type': 'Savings' , 'Amount_Drawn': 8000}\n",
    "dict_vals = dict_tran.values()\n",
    "print(dict_vals)"
   ]
  },
  {
   "cell_type": "code",
   "execution_count": 73,
   "metadata": {},
   "outputs": [
    {
     "name": "stdout",
     "output_type": "stream",
     "text": [
      "Printing the updated dictionary:  {'Tran_id': 'T0089', 'Cust_Id': 'C000876', 'Acc_Type': 'Savings'}\n",
      "What did I pop?  ('Amount_Drawn', 8000)\n"
     ]
    }
   ],
   "source": [
    "# Popitem - Removes the last Inserted key:value pair\n",
    "# Deleting the last Element from a Dictionary using 'popitem'\n",
    "dict_tran = {'Tran_id' : 'T0089', 'Cust_Id': 'C000876', 'Acc_Type': 'Savings' , 'Amount_Drawn': 8000}\n",
    "popped = dict_tran.popitem()\n",
    "print(\"Printing the updated dictionary: \", dict_tran)\n",
    "print(\"What did I pop? \", popped)"
   ]
  },
  {
   "cell_type": "code",
   "execution_count": 43,
   "metadata": {},
   "outputs": [
    {
     "name": "stdout",
     "output_type": "stream",
     "text": [
      "Printing the updated dictionary - pass 1:  {'Tran_id': 'T0089', 'Cust_Id': 'C000876', 'Acc_Type': 'Savings', 'Amount_Drawn': 8000, 'New_field': 6766}\n",
      "Printing the updated dictionary - pass 2:  {'Tran_id': 'T0089', 'Cust_Id': 'C000876', 'Acc_Type': 'Savings', 'Amount_Drawn': 8000, 'New_field': 6766}\n",
      "Checking the returned value:  8000\n"
     ]
    }
   ],
   "source": [
    "# Setdefault - Insert a specified key:value pair. If the Key exists, returns the value.\n",
    "# Insert a key:value pair. If the pair exists, return the value\n",
    "dict_tran = {'Tran_id' : 'T0089', 'Cust_Id': 'C000876', 'Acc_Type': 'Savings' , 'Amount_Drawn': 8000}\n",
    "dict_tran.setdefault('New_field', 6766)\n",
    "print(\"Printing the updated dictionary - pass 1: \", dict_tran)\n",
    "ret = dict_tran.setdefault('Amount_Drawn', 6766)\n",
    "print(\"Printing the updated dictionary - pass 2: \", dict_tran)\n",
    "print(\"Checking the returned value: \", ret)"
   ]
  },
  {
   "cell_type": "markdown",
   "metadata": {},
   "source": [
    "#### Iterating through a Dictionary\n",
    "Traversing through a dictionary is similar to traversing through other iterators in Python. While traversing through a dictionary in a for loop, python returns the current Key. The value as usual can be extracted. \n"
   ]
  },
  {
   "cell_type": "code",
   "execution_count": 75,
   "metadata": {},
   "outputs": [
    {
     "name": "stdout",
     "output_type": "stream",
     "text": [
      "Key:  Tran_id  -- Value:  T0089\n",
      "Key:  Cust_Id  -- Value:  C000876\n",
      "Key:  Acc_Type  -- Value:  Savings\n",
      "Key:  Amount_Drawn  -- Value:  8000\n"
     ]
    }
   ],
   "source": [
    "# Iterating through a Dictionary\n",
    "dict_tran = {'Tran_id' : 'T0089', 'Cust_Id': 'C000876', 'Acc_Type': 'Savings' , 'Amount_Drawn': 8000}\n",
    "for x in dict_tran:\n",
    "    print(\"Key: \", x, \" -- Value: \", dict_tran[x])"
   ]
  },
  {
   "cell_type": "markdown",
   "metadata": {},
   "source": [
    "### SETs"
   ]
  },
  {
   "cell_type": "markdown",
   "metadata": {},
   "source": [
    "Sets are unordered collection objects containing unique mutable elements. Set objects are used in Python the purpose of carrying out special set operations such as finding unions, differences, intersections, symmetric intersections, etc between datasets. Sets are also used for membership testing, i.e. testing for whether an element is part of the set or not. Another key property of sets is that elements in a set are unordered. Hence, it is not possible to access elements in a set using indexes, or carrying out other sequence operations like slicing, unlike other collection objects in Python such as Lists, Tuples, Dictionaries and Numpy Arrays. "
   ]
  },
  {
   "cell_type": "code",
   "execution_count": 76,
   "metadata": {},
   "outputs": [
    {
     "name": "stdout",
     "output_type": "stream",
     "text": [
      "{'Gavaskar', 'Gilchrist', 'Pollock', 'Waugh', 'Dhoni', 'Tendulkar', 'Dravid', 'Gayle'}\n"
     ]
    }
   ],
   "source": [
    "# Creating a Set\n",
    "set1 = set(['Gayle', 'Gilchrist', 'Waugh', 'Dravid', 'Pollock', 'Tendulkar', 'Gavaskar', 'Dhoni'])\n",
    "print(set1)"
   ]
  },
  {
   "cell_type": "markdown",
   "metadata": {},
   "source": [
    "### Finding the Intersections of two Sets \n",
    "Intersections return the elements that are common across the two sets used as operands. \n",
    "The following code demonstrates two ways intersections between two sets are found.\n",
    "- Use the ‘&’ operator that returns the elements common between set1 & set2.\n",
    "- Use the Intersection method of set object. \n",
    "At the end, we compare the result sets (int1 and int2) to find if they are the same.  \n"
   ]
  },
  {
   "cell_type": "code",
   "execution_count": 77,
   "metadata": {},
   "outputs": [
    {
     "name": "stdout",
     "output_type": "stream",
     "text": [
      "Set 1:  {'f', 'a', 'd', 'c', 'e', 'b', 'g', 'h'}\n",
      "Set 2:  {'f', 'a', 'c', 'm', 'e', 'b', 'q', 'h', 't'}\n",
      "Intersection using the & Operator:  {'f', 'a', 'c', 'e', 'b', 'h'}\n",
      "Intersection using the Intersection method:  {'f', 'a', 'c', 'e', 'b', 'h'}\n",
      "The Intersections are same\n"
     ]
    }
   ],
   "source": [
    "# Finding an Intersection\n",
    "set1 = set(['a', 'b', 'c', 'd', 'e', 'f', 'g', 'h'])\n",
    "set2 = set(['a', 'b', 'c', 'e', 'f', 'h', 'm', 't', 'q'])\n",
    "print(\"Set 1: \", set1)\n",
    "print(\"Set 2: \", set2)\n",
    "int1 = set1 & set2     # Use the '&' - intersection operator\n",
    "int2 = set1.intersection(set2)     # Use the intersection method of set object\n",
    "print(\"Intersection using the & Operator: \", int1)\n",
    "print(\"Intersection using the Intersection method: \", int2)\n",
    "if int1 == int2:\n",
    "    print(\"The Intersections are same\")"
   ]
  },
  {
   "cell_type": "markdown",
   "metadata": {},
   "source": [
    "#### Finding the Union of two Sets \n",
    "Union return unique occurrences of all elements among the two sets used as operands. \n",
    "The following code demonstrates two ways unions between two sets are found.\n",
    "- Use the ‘|’ operator that returns the union between set1 & set2. Interpreted as ‘return all which are in either set1 or set2 plus the unique of the ones common across both sets’.  \n",
    "- Use the Union method of set object. \n",
    "At the end, we compare the result sets (uni1 and uni2) to find if they are the same.  \n"
   ]
  },
  {
   "cell_type": "code",
   "execution_count": 78,
   "metadata": {},
   "outputs": [
    {
     "name": "stdout",
     "output_type": "stream",
     "text": [
      "Set 1:  {'f', 'a', 'd', 'c', 'e', 'b', 'g', 'h'}\n",
      "Set 2:  {'f', 'a', 'c', 'm', 'e', 'b', 'q', 'h', 't'}\n",
      "Union using the | Operator:  {'f', 'a', 'd', 'c', 'm', 'e', 'b', 'q', 'g', 'h', 't'}\n",
      "Union using the Union method:  {'f', 'a', 'd', 'c', 'm', 'e', 'b', 'q', 'g', 'h', 't'}\n",
      "The Unions are same\n"
     ]
    }
   ],
   "source": [
    "# Finding an Union\n",
    "set1 = set(['a', 'b', 'c', 'd', 'e', 'f', 'g', 'h'])\n",
    "set2 = set(['a', 'b', 'c', 'e', 'f', 'h', 'm', 't', 'q'])\n",
    "print(\"Set 1: \", set1)\n",
    "print(\"Set 2: \", set2)\n",
    "uni1 = set1 | set2     # Use the '|' - union operator\n",
    "uni2 = set1.union(set2)     # Use the union method of set object\n",
    "print(\"Union using the | Operator: \", uni1)\n",
    "print(\"Union using the Union method: \", uni2)\n",
    "if uni1 == uni2:\n",
    "    print(\"The Unions are same\")"
   ]
  },
  {
   "cell_type": "markdown",
   "metadata": {},
   "source": [
    "#### Finding the Difference of two Sets \n",
    "The difference operation on sets, set1 and set2 return all elements that are found in set1 but not there in set2. \n",
    "The following code demonstrates two ways differences between two sets are found.\n",
    "- Use the ‘-’ operator that returns the difference between set1 & set2. Interpreted as ‘return all elements that are found in set1 but not in set2’.  \n",
    "- Use the difference method of set object. \n",
    "At the end, we compare the result sets (dif1 and dif2) to find if they are the same.  "
   ]
  },
  {
   "cell_type": "code",
   "execution_count": 79,
   "metadata": {},
   "outputs": [
    {
     "name": "stdout",
     "output_type": "stream",
     "text": [
      "Set 1:  {'f', 'a', 'd', 'c', 'e', 'b', 'g', 'h'}\n",
      "Set 2:  {'f', 'a', 'c', 'm', 'e', 'b', 'q', 'h', 't'}\n",
      "Difference using the - Operator:  {'g', 'd'}\n",
      "Difference using the Difference method:  {'g', 'd'}\n",
      "The Differences are same\n"
     ]
    }
   ],
   "source": [
    "# Finding a Difference\n",
    "set1 = set(['a', 'b', 'c', 'd', 'e', 'f', 'g', 'h'])\n",
    "set2 = set(['a', 'b', 'c', 'e', 'f', 'h', 'm', 't', 'q'])\n",
    "print(\"Set 1: \", set1)\n",
    "print(\"Set 2: \", set2)\n",
    "dif1 = set1 - set2     # Use the '-' (Difference operator)\n",
    "dif2 = set1.difference(set2)     # Use the Difference method of set object\n",
    "print(\"Difference using the - Operator: \", dif1)\n",
    "print(\"Difference using the Difference method: \", dif2)\n",
    "if dif1 == dif2:\n",
    "    print(\"The Differences are same\")"
   ]
  },
  {
   "cell_type": "markdown",
   "metadata": {},
   "source": [
    "### Finding the Symmetric Difference of two Sets \n",
    "The symmetric difference operation on sets, set1 and set2 return all elements that are found in set1 and set2 but not in both. \n",
    "The following code demonstrates two ways symmetric differences between two sets are found.\n",
    "- Use the ‘^’ operator that returns the symmetric difference between set1 & set2. Interpreted as ‘return all elements that are found in set1 and set2 but not in both’.  \n",
    "- Use the symmetric_difference method of set object. \n",
    "At the end, we compare the result sets (dif1 and dif2) to find if they are the same.  \n"
   ]
  },
  {
   "cell_type": "code",
   "execution_count": 80,
   "metadata": {},
   "outputs": [
    {
     "name": "stdout",
     "output_type": "stream",
     "text": [
      "Set 1:  {'f', 'a', 'd', 'c', 'e', 'b', 'g', 'h'}\n",
      "Set 2:  {'f', 'a', 'c', 'm', 'e', 'b', 'q', 'h', 't'}\n",
      "Symmetric Difference using the ^ Operator:  {'d', 'm', 'q', 'g', 't'}\n",
      "Symmetric Difference using the symmetric_difference method:  {'d', 'm', 'q', 'g', 't'}\n",
      "The Symmetric Differences are same\n"
     ]
    }
   ],
   "source": [
    "# Finding Symmetric Difference\n",
    "set1 = set(['a', 'b', 'c', 'd', 'e', 'f', 'g', 'h'])\n",
    "set2 = set(['a', 'b', 'c', 'e', 'f', 'h', 'm', 't', 'q'])\n",
    "print(\"Set 1: \", set1)\n",
    "print(\"Set 2: \", set2)\n",
    "dif1 = set1 ^ set2     # Use the '^' (Symmetric Difference operator)\n",
    "dif2 = set1.symmetric_difference(set2)     # Use the symmetric_difference method of set object\n",
    "print(\"Symmetric Difference using the ^ Operator: \", dif1)\n",
    "print(\"Symmetric Difference using the symmetric_difference method: \", dif2)\n",
    "if dif1 == dif2:\n",
    "    print(\"The Symmetric Differences are same\")"
   ]
  },
  {
   "cell_type": "code",
   "execution_count": 81,
   "metadata": {},
   "outputs": [
    {
     "name": "stdout",
     "output_type": "stream",
     "text": [
      "Set 1:  {'f', 'a', 'd', 'c', 'e', 'b', 'g', 'h'}\n",
      "Updated Set1:  {'f', 'a', 'd', 'c', 'e', 'b', 'i', 'g', 'h'}\n"
     ]
    }
   ],
   "source": [
    "# Add an element in a Set\n",
    "set1 = set(['a', 'b', 'c', 'd', 'e', 'f', 'g', 'h'])\n",
    "print(\"Set 1: \", set1)\n",
    "set1.add('i')     # Use the add method of set object to add the new element 'i'\n",
    "print(\"Updated Set1: \", set1)"
   ]
  },
  {
   "cell_type": "markdown",
   "metadata": {},
   "source": [
    "#### Test of Membership\n",
    "We can check if an element is part of a set by using the ‘in’ or ‘not in’ statements. A Boolean is returned based on whether or not the specified element if part of the set in question. \n"
   ]
  },
  {
   "cell_type": "code",
   "execution_count": 82,
   "metadata": {},
   "outputs": [
    {
     "name": "stdout",
     "output_type": "stream",
     "text": [
      "Whether c is present in Set1:  True\n",
      "Whether c is present in Set1...negative way:  False\n"
     ]
    }
   ],
   "source": [
    "# Check if element 'c' is part of set1\n",
    "set1 = set(['a', 'b', 'c', 'd', 'e', 'f', 'g', 'h'])\n",
    "print(\"Whether c is present in Set1: \", 'c' in set1)\n",
    "print(\"Whether c is present in Set1...negative way: \", 'c' not in set1)"
   ]
  },
  {
   "cell_type": "code",
   "execution_count": 83,
   "metadata": {},
   "outputs": [
    {
     "name": "stdout",
     "output_type": "stream",
     "text": [
      "Set 1:  {'f', 'a', 'd', 'c', 'e', 'b', 'g', 'h'}\n",
      "Set 2:  {'b', 'f', 'h', 'e'}\n",
      "Whether Set2 is a subset of set1:  True\n",
      "Whether Set1 is a superset of set2:  True\n"
     ]
    }
   ],
   "source": [
    "# Check for subset or superset\n",
    "set1 = set(['a', 'b', 'c', 'd', 'e', 'f', 'g', 'h'])\n",
    "set2 = set(['b', 'e', 'f', 'h'])\n",
    "print(\"Set 1: \", set1)\n",
    "print(\"Set 2: \", set2)\n",
    "print(\"Whether Set2 is a subset of set1: \", set2.issubset(set1))\n",
    "print(\"Whether Set1 is a superset of set2: \", set1.issuperset(set2))"
   ]
  },
  {
   "cell_type": "code",
   "execution_count": 84,
   "metadata": {},
   "outputs": [
    {
     "name": "stdout",
     "output_type": "stream",
     "text": [
      "{'f', 'a', 'd', 'x', 'c', 'm', 'e', 'b', 'g', 'h', 'w'}\n"
     ]
    }
   ],
   "source": [
    "# Update - The ‘update’ function updates multiple elements into a set.\n",
    "# Adding Multiple Elements using the 'update' method \n",
    "set1 = set(['a', 'b', 'c', 'd', 'e', 'f', 'g', 'h'])\n",
    "set1.update(['w', 'x', 'm', 'a'])\n",
    "print(set1)"
   ]
  },
  {
   "cell_type": "code",
   "execution_count": 85,
   "metadata": {},
   "outputs": [
    {
     "name": "stdout",
     "output_type": "stream",
     "text": [
      "8\n"
     ]
    }
   ],
   "source": [
    "# Len - The ‘len function returns the number of elements in a set.\n",
    "# Finding the number of elements in a Set\n",
    "set1 = set(['a', 'b', 'c', 'd', 'e', 'f', 'g', 'h'])\n",
    "print(len(set1))"
   ]
  },
  {
   "cell_type": "code",
   "execution_count": 86,
   "metadata": {},
   "outputs": [
    {
     "name": "stdout",
     "output_type": "stream",
     "text": [
      "Printing original set:  {'f', 'a', 'd', 'c', 'e', 'b', 'g', 'h'}\n",
      "Printing the copied set:  {'f', 'a', 'd', 'c', 'e', 'b', 'g', 'h'}\n",
      "Memory Address of Set1:  140718894114848\n",
      "Memory Address of Set2:  140718894113952\n",
      "{'f', 'a', 'd', 'c', 'e', 'b', 'g', 'h', 't'}\n",
      "{'f', 'a', 'd', 'c', 'e', 'b', 'g', 'h'}\n"
     ]
    }
   ],
   "source": [
    "# Copy - The copy function creates a Physically separate copy of the set. \n",
    "# An “=” assignment operator creates only a reference (a different variable name on the same memory location). \n",
    "# To create a physically separate new copy, or a shallow copy, the ‘copy’ method has to be used.  \n",
    "\n",
    "set1 = set(['a', 'b', 'c', 'd', 'e', 'f', 'g', 'h'])\n",
    "set2 = set1.copy()\n",
    "\n",
    "print(\"Printing original set: \", set1)\n",
    "print(\"Printing the copied set: \", set2)\n",
    "print(\"Memory Address of Set1: \", id(set1))\n",
    "print(\"Memory Address of Set2: \", id(set2))\n",
    "set1.add('t')\n",
    "print(set1)\n",
    "print(set2)"
   ]
  },
  {
   "cell_type": "code",
   "execution_count": 87,
   "metadata": {},
   "outputs": [
    {
     "name": "stdout",
     "output_type": "stream",
     "text": [
      "{'f', 'a', 'c', 'e', 'b', 'g', 'h'}\n"
     ]
    }
   ],
   "source": [
    "# Remove - The ‘remove’ method removes an element from the set. ‘remove’ raises a KeyError if the element is not present.\n",
    "# Remove an element from the Set\n",
    "set1 = set(['a', 'b', 'c', 'd', 'e', 'f', 'g', 'h'])\n",
    "set1.remove('d')\n",
    "print(set1)"
   ]
  },
  {
   "cell_type": "code",
   "execution_count": 88,
   "metadata": {},
   "outputs": [
    {
     "name": "stdout",
     "output_type": "stream",
     "text": [
      "Popped Item:  f\n",
      "New Set:  {'a', 'd', 'c', 'e', 'b', 'g', 'h'}\n"
     ]
    }
   ],
   "source": [
    "# Pop - Removes an arbitrary element from the set and returns it. \n",
    "# Pop an element from the Set\n",
    "set1 = set(['a', 'b', 'c', 'd', 'e', 'f', 'g', 'h'])\n",
    "x = set1.pop()\n",
    "print(\"Popped Item: \", x)\n",
    "print(\"New Set: \", set1)"
   ]
  },
  {
   "cell_type": "code",
   "execution_count": 89,
   "metadata": {},
   "outputs": [
    {
     "name": "stdout",
     "output_type": "stream",
     "text": [
      "Intersection Update:  {'b', 'f', 'h', 'e'}\n"
     ]
    }
   ],
   "source": [
    "# Intersection_update - The Intersection_update method returns set1 keeping only those elements that \n",
    "# are also found in set2. Intersection_update --- Return set1 keeping only those elements also found in set2\n",
    "set1 = set(['a', 'b', 'c', 'd', 'e', 'f', 'g', 'h'])\n",
    "set2 = set(['b', 'e', 'f', 'h', 'u', 'j'])\n",
    "set1.intersection_update(set2)\n",
    "print(\"Intersection Update: \", set1)"
   ]
  },
  {
   "cell_type": "code",
   "execution_count": 90,
   "metadata": {},
   "outputs": [
    {
     "name": "stdout",
     "output_type": "stream",
     "text": [
      "Difference Update:  {'a', 'd', 'c', 'g'}\n"
     ]
    }
   ],
   "source": [
    "# Difference_update - The difference_update method returns those elements in set1 after removing those also found in set2.\n",
    "# Difference_update --- Return set1 after removing  those elements also found in set2\n",
    "set1 = set(['a', 'b', 'c', 'd', 'e', 'f', 'g', 'h'])\n",
    "set2 = set(['b', 'e', 'f', 'h', 'u', 'j'])\n",
    "set1.difference_update(set2)\n",
    "print(\"Difference Update: \", set1)"
   ]
  },
  {
   "cell_type": "code",
   "execution_count": 91,
   "metadata": {},
   "outputs": [
    {
     "name": "stdout",
     "output_type": "stream",
     "text": [
      "Symmetric Difference Update:  {'u', 'a', 'd', 'c', 'g', 'j'}\n"
     ]
    }
   ],
   "source": [
    "# symmetric_difference_update - Updates set1 with elements found in both set1 or set2 but not both.\n",
    "# Symmetric_Difference_update --- Updates set1 keeping those elements found in Set1 and Set2 but not both\n",
    "set1 = set(['a', 'b', 'c', 'd', 'e', 'f', 'g', 'h'])\n",
    "set2 = set(['b', 'e', 'f', 'h', 'u', 'j'])\n",
    "set1.symmetric_difference_update(set2)\n",
    "print(\"Symmetric Difference Update: \", set1) "
   ]
  },
  {
   "cell_type": "markdown",
   "metadata": {},
   "source": [
    "### Iterating through a Set\n",
    "Traversing through a set is similar to traversing through other iterators in Python. With each iteration, Python returns an element from the set till all elements are exhausted.  \n"
   ]
  },
  {
   "cell_type": "code",
   "execution_count": 92,
   "metadata": {},
   "outputs": [
    {
     "name": "stdout",
     "output_type": "stream",
     "text": [
      "f\n",
      "a\n",
      "d\n",
      "c\n",
      "e\n",
      "b\n",
      "g\n",
      "h\n"
     ]
    }
   ],
   "source": [
    "# Traversing through a set\n",
    "set1 = set(['a', 'b', 'c', 'd', 'e', 'f', 'g', 'h'])\n",
    "for x in set1:\n",
    "    print(x)"
   ]
  },
  {
   "cell_type": "code",
   "execution_count": 2,
   "metadata": {},
   "outputs": [
    {
     "name": "stdout",
     "output_type": "stream",
     "text": [
      "[1, 2, 3, 4]\n"
     ]
    }
   ],
   "source": [
    "list1 = [1,2,3,4]\n",
    "print(list1)"
   ]
  },
  {
   "cell_type": "code",
   "execution_count": 8,
   "metadata": {},
   "outputs": [
    {
     "name": "stdout",
     "output_type": "stream",
     "text": [
      "['Atria', 5000, True, 3.8, 2025, 300]\n",
      "['Atria', 'Atria University', True, 3.8, 2025, 300]\n",
      "['Atria', 'Atria University', 'Atria Deemed University', 3.8, 2025, 300]\n"
     ]
    }
   ],
   "source": [
    "list2 = ['Atria',5000,True , 3.8,2025,300]\n",
    "print(list2)\n",
    "list2[1]=('Atria University')\n",
    "print(list2)\n",
    "list2[2]=(\"Atria Deemed University\")\n",
    "print(list2)"
   ]
  },
  {
   "cell_type": "code",
   "execution_count": 15,
   "metadata": {},
   "outputs": [
    {
     "name": "stdout",
     "output_type": "stream",
     "text": [
      "Accessing the 3rd element:  2025\n",
      "Accessing the 4th element:  3000\n"
     ]
    }
   ],
   "source": [
    "list3 = ['Atria',3000,True, 3.8,2025,300]\n",
    "print(\"Accessing the 3rd element: \",list3[4])\n",
    "print(\"Accessing the 4th element: \",list3[-5])"
   ]
  },
  {
   "cell_type": "code",
   "execution_count": 20,
   "metadata": {},
   "outputs": [
    {
     "name": "stdout",
     "output_type": "stream",
     "text": [
      "['sriaknth', 'suresh', 'sreyas', 'sriindu']\n",
      "['suresh', 'sreyas']\n",
      "['sriaknth', 'suresh', 'sreyas', 'sriindu']\n",
      "['suresh', 'sreyas', 'sriindu']\n"
     ]
    }
   ],
   "source": [
    "list3 = ['sriaknth','suresh','sreyas','sriindu']\n",
    "print(list3)\n",
    "print(list3[1:3])\n",
    "print(list3[:4])\n",
    "print(list3[1:])"
   ]
  },
  {
   "cell_type": "code",
   "execution_count": 22,
   "metadata": {},
   "outputs": [
    {
     "name": "stdout",
     "output_type": "stream",
     "text": [
      "[2, 4, 6]\n"
     ]
    }
   ],
   "source": [
    "list4 =[1,2,3,4,5,6,7,8,9,10,11,12]\n",
    "print(list4[1:6:2])"
   ]
  },
  {
   "cell_type": "code",
   "execution_count": 23,
   "metadata": {},
   "outputs": [
    {
     "name": "stdout",
     "output_type": "stream",
     "text": [
      "[1, 2, 3, 4, 5, 6, 7, 8, 9, 10, 0, 1, 2, 3, 4]\n"
     ]
    }
   ],
   "source": [
    "list4 =[1,2,3,4,5,6,7,8,9,10]\n",
    "for x in range(5):\n",
    "    list4.append(x)\n",
    "print(list4)"
   ]
  },
  {
   "cell_type": "code",
   "execution_count": null,
   "metadata": {},
   "outputs": [],
   "source": []
  }
 ],
 "metadata": {
  "kernelspec": {
   "display_name": "Python 3 (ipykernel)",
   "language": "python",
   "name": "python3"
  },
  "language_info": {
   "codemirror_mode": {
    "name": "ipython",
    "version": 3
   },
   "file_extension": ".py",
   "mimetype": "text/x-python",
   "name": "python",
   "nbconvert_exporter": "python",
   "pygments_lexer": "ipython3",
   "version": "3.12.3"
  }
 },
 "nbformat": 4,
 "nbformat_minor": 4
}

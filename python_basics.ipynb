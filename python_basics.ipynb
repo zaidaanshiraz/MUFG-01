{
 "cells": [
  {
   "cell_type": "code",
   "execution_count": 2,
   "id": "5ca2fcd7-932a-4b8a-8564-d01678509b4d",
   "metadata": {},
   "outputs": [
    {
     "name": "stdout",
     "output_type": "stream",
     "text": [
      "10\n",
      "Victor\n",
      "2000.23\n"
     ]
    }
   ],
   "source": [
    "#Assigning a single value\n",
    "a=10\n",
    "name=\"Victor\"\n",
    "salary = 2000.23\n",
    "print(a)\n",
    "print(name)\n",
    "print(salary)"
   ]
  },
  {
   "cell_type": "code",
   "execution_count": 4,
   "id": "e8c67567-69c4-4445-a9a7-f0592fd0a67b",
   "metadata": {},
   "outputs": [
    {
     "name": "stdout",
     "output_type": "stream",
     "text": [
      "20\n",
      "30\n",
      "10\n"
     ]
    }
   ],
   "source": [
    "#Assigning multiple values\n",
    "a=b=c=10\n",
    "x,y,z=10,20,30\n",
    "print(y)\n",
    "print(z)\n",
    "print(a)"
   ]
  },
  {
   "cell_type": "code",
   "execution_count": 6,
   "id": "fbc8e18c-c5e3-474f-b84c-e1211a71ba54",
   "metadata": {},
   "outputs": [
    {
     "name": "stdin",
     "output_type": "stream",
     "text": [
      "Enter your name:  Raina\n"
     ]
    }
   ],
   "source": [
    "#Getting user input\n",
    "name=input(\"Enter your name: \")\n"
   ]
  },
  {
   "cell_type": "code",
   "execution_count": 8,
   "id": "24c34844-1c0d-40da-981d-0b6c31aa8df4",
   "metadata": {},
   "outputs": [
    {
     "name": "stdout",
     "output_type": "stream",
     "text": [
      "Recommendation: Apply for Software Engineer Roles\n"
     ]
    }
   ],
   "source": [
    "#Conditional statement\n",
    "#Suggest job levels based on students skill score\n",
    "skill_score=72\n",
    "\n",
    "#Use conditional statements to recommend job roles\n",
    "if skill_score>=90:\n",
    "    print(\"Recommendation: Apply for senior Software Engineer Roles\")\n",
    "elif skill_score>=70:\n",
    "    print(\"Recommendation: Apply for Software Engineer Roles\")\n",
    "elif skill_score>=50:\n",
    "    print(\"Recommendation: Apply for Internship or Trainee Roles\")\n",
    "else:\n",
    "    print(\"Improve your skills with coding practice\")"
   ]
  },
  {
   "cell_type": "code",
   "execution_count": 10,
   "id": "a8723dba-577f-48ac-b219-7700f856a736",
   "metadata": {},
   "outputs": [
    {
     "name": "stdout",
     "output_type": "stream",
     "text": [
      "Trying to book a cab...\n"
     ]
    },
    {
     "name": "stdin",
     "output_type": "stream",
     "text": [
      "Did you get a cab? yes/no no\n"
     ]
    },
    {
     "name": "stdout",
     "output_type": "stream",
     "text": [
      "Trying to book a cab...\n"
     ]
    },
    {
     "name": "stdin",
     "output_type": "stream",
     "text": [
      "Did you get a cab? yes/no no\n"
     ]
    },
    {
     "name": "stdout",
     "output_type": "stream",
     "text": [
      "Trying to book a cab...\n"
     ]
    },
    {
     "name": "stdin",
     "output_type": "stream",
     "text": [
      "Did you get a cab? yes/no yes\n"
     ]
    },
    {
     "name": "stdout",
     "output_type": "stream",
     "text": [
      "cab booked successfully!!\n"
     ]
    }
   ],
   "source": [
    "#Looping Statement\n",
    "#Ola/Uber booking retry using a while-loop\n",
    "#Initialize the number of tries\n",
    "tries=0\n",
    "\n",
    "#Loop to try booking a cab upto 3 times\n",
    "while tries<3:\n",
    "    print(\"Trying to book a cab...\")\n",
    "\n",
    "    #Ask the user if the cab is booked\n",
    "    user_input=input(\"Did you get a cab? yes/no\")\n",
    "\n",
    "    #if cab is booked show success message and stop the loop\n",
    "    if user_input.lower()==\"yes\":\n",
    "        print(\"cab booked successfully!!\")\n",
    "        break\n",
    "\n",
    "    #if not booked increase the try count\n",
    "    tries+=1\n",
    "\n",
    "#after 3 unsuccessful tries show a message\n",
    "if tries==3:\n",
    "    print(\"Couldnt book a cab. Please try again later.\")"
   ]
  },
  {
   "cell_type": "code",
   "execution_count": 16,
   "id": "44075ec9-cd39-431e-a839-ef1390080108",
   "metadata": {},
   "outputs": [
    {
     "name": "stdout",
     "output_type": "stream",
     "text": [
      "Site is not secure\n",
      "Site is secure\n",
      "Site is secure\n",
      "Site is not secure\n"
     ]
    }
   ],
   "source": [
    "#looping Statement\n",
    "#Check which websites are secure (based on 'https')\n",
    "\n",
    "websites=[\"http://example.com\",\"https://github.com\",\"https://google.com\",\"http://mysite.org\"]\n",
    "\n",
    "for site in websites:\n",
    "    if(site.startswith(\"https://\")):\n",
    "        print(\"Site is secure\")\n",
    "    else:\n",
    "        print(\"Site is not secure\")\n"
   ]
  },
  {
   "cell_type": "code",
   "execution_count": 20,
   "id": "578c58c2-4265-4d41-aad7-a9f02102b5d5",
   "metadata": {},
   "outputs": [
    {
     "name": "stdout",
     "output_type": "stream",
     "text": [
      "Checking item: pen\n",
      "Checking item: pencil\n",
      "Checking item: eraser\n",
      "Checking item: book\n",
      "Item found! stop searching\n"
     ]
    }
   ],
   "source": [
    "#Branching statement\n",
    "#break\n",
    "items=[\"pen\", \"pencil\",\"eraser\",\"book\",\"bottle\"]\n",
    "\n",
    "for item in items:\n",
    "    print(\"Checking item:\",item)\n",
    "    if item==\"book\":\n",
    "        print(\"Item found! stop searching\")\n",
    "        break\n"
   ]
  },
  {
   "cell_type": "code",
   "execution_count": 22,
   "id": "e25bfb4c-0f2f-478b-9074-48ad27c52334",
   "metadata": {},
   "outputs": [
    {
     "name": "stdout",
     "output_type": "stream",
     "text": [
      "available item:  pen\n",
      "available item:  eraser\n",
      "available item:  book\n"
     ]
    }
   ],
   "source": [
    "#Branching statement\n",
    "#continue\n",
    "items=[\"pen\",\"out-of-stock\",\"eraser\",\"out-of-stock\",\"book\"]\n",
    "\n",
    "for item in items:\n",
    "    if item==\"out-of-stock\":\n",
    "        continue\n",
    "    print(\"available item: \", item)"
   ]
  },
  {
   "cell_type": "code",
   "execution_count": 26,
   "id": "3be99170-a69d-469d-b919-0bc6638bdfa4",
   "metadata": {},
   "outputs": [
    {
     "name": "stdout",
     "output_type": "stream",
     "text": [
      "abs(a): 5\n",
      "round(b): 3\n",
      "pow(2, 3): 8\n",
      "max(1, 5, 3): 5\n",
      "min(1, 5, 3): 1\n",
      "sum([1, 2, 3]): 6\n",
      "divmod(10, 3): (3, 1)\n",
      "bin(10): 0b1010\n",
      "hex(10): 0xa\n",
      "oct(10): 0o12\n",
      "-\n",
      "int('5'): 5\n",
      "float('3.14'): 3.14\n",
      "str(100): 100\n",
      "bool(1): True\n",
      "list('abc'): ['a', 'b', 'c']\n",
      "tuple([1, 2]): (1, 2)\n",
      "set([1, 2, 2]): {1, 2}\n",
      "dict([(1, 'a'), (2, 'b')]): {1: 'a', 2: 'b'}\n",
      "complex(2, 3): (2+3j)\n",
      "-\n",
      "type(x): <class 'int'>\n",
      "------------------------------\n",
      "len(nums): 4\n",
      "sorted(nums): [2, 3, 4, 9]\n",
      "------------------------------\n"
     ]
    }
   ],
   "source": [
    "#  Math and Number Functions\n",
    "a = -5\n",
    "b = 3.456\n",
    "\n",
    "print(\"abs(a):\", abs(a))              # Absolute value\n",
    "print(\"round(b):\", round(b))          # Rounds to nearest int\n",
    "print(\"pow(2, 3):\", pow(2, 3))        # 2^3 = 8\n",
    "print(\"max(1, 5, 3):\", max(1, 5, 3))  # Maximum value\n",
    "print(\"min(1, 5, 3):\", min(1, 5, 3))  # Minimum value\n",
    "print(\"sum([1, 2, 3]):\", sum([1, 2, 3]))  # Sum of all items\n",
    "print(\"divmod(10, 3):\", divmod(10, 3))   # Returns (quotient, remainder)\n",
    "print(\"bin(10):\", bin(10))            # Binary representation\n",
    "print(\"hex(10):\", hex(10))            # Hexadecimal\n",
    "print(\"oct(10):\", oct(10))            # Octal\n",
    "\n",
    "print(\"-\" )\n",
    "\n",
    "#  Type Conversion Functions\n",
    "print(\"int('5'):\", int(\"5\"))\n",
    "print(\"float('3.14'):\", float(\"3.14\"))\n",
    "print(\"str(100):\", str(100))\n",
    "print(\"bool(1):\", bool(1))\n",
    "print(\"list('abc'):\", list(\"abc\"))\n",
    "print(\"tuple([1, 2]):\", tuple([1, 2]))\n",
    "print(\"set([1, 2, 2]):\", set([1, 2, 2]))\n",
    "print(\"dict([(1, 'a'), (2, 'b')]):\", dict([(1, 'a'), (2, 'b')]))\n",
    "print(\"complex(2, 3):\", complex(2, 3))\n",
    "          \n",
    "\n",
    "print(\"-\" )\n",
    "\n",
    "#  Type Checking\n",
    "x = 5\n",
    "print(\"type(x):\", type(x))\n",
    "\n",
    "\n",
    "print(\"-\" * 30)\n",
    "\n",
    "#  Data Structure Helpers\n",
    "nums = [9, 2, 3, 4]\n",
    "print(\"len(nums):\", len(nums))\n",
    "print(\"sorted(nums):\", sorted(nums))\n",
    "\n",
    "print(\"-\" * 30)\n",
    "\n"
   ]
  },
  {
   "cell_type": "code",
   "execution_count": null,
   "id": "a5fc5f61-8a82-445c-9bfb-e17db06bb7bc",
   "metadata": {},
   "outputs": [],
   "source": []
  }
 ],
 "metadata": {
  "kernelspec": {
   "display_name": "Python [conda env:base] *",
   "language": "python",
   "name": "conda-base-py"
  },
  "language_info": {
   "codemirror_mode": {
    "name": "ipython",
    "version": 3
   },
   "file_extension": ".py",
   "mimetype": "text/x-python",
   "name": "python",
   "nbconvert_exporter": "python",
   "pygments_lexer": "ipython3",
   "version": "3.12.7"
  }
 },
 "nbformat": 4,
 "nbformat_minor": 5
}
